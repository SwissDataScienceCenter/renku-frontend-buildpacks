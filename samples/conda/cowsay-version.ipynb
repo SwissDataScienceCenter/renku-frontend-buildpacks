{
 "cells": [
  {
   "cell_type": "code",
   "execution_count": null,
   "id": "d4506b1d-8a55-4331-9057-13936476b22d",
   "metadata": {},
   "outputs": [],
   "source": [
    "from cowpy import cow\n",
    "import sys\n",
    "\n",
    "mycow = cow.Cowacter()\n",
    "print(mycow.milk(sys.version))"
   ]
  }
 ],
 "metadata": {
  "kernelspec": {
   "display_name": "custom_env",
   "language": "python",
   "name": "custom_env"
  },
  "language_info": {
   "codemirror_mode": {
    "name": "ipython",
    "version": 3
   },
   "file_extension": ".py",
   "mimetype": "text/x-python",
   "name": "python",
   "nbconvert_exporter": "python",
   "pygments_lexer": "ipython3",
   "version": "3.10.16"
  }
 },
 "nbformat": 4,
 "nbformat_minor": 5
}
